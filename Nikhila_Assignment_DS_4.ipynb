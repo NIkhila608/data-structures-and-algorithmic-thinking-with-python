{
 "cells": [
  {
   "cell_type": "code",
   "execution_count": 53,
   "metadata": {},
   "outputs": [],
   "source": [
    "# STACK Implementation using Dynamic Array\n",
    "\n",
    "class StackImpl():\n",
    "    def __init__(self):\n",
    "        self.lst=[None]*5\n",
    "        self.c=5\n",
    "        self.n=0\n",
    "    def __str__(self):\n",
    "        s=self.lst\n",
    "        st=\"\"\n",
    "        for i in range(len(s)-1,-1,-1):\n",
    "            if s[i] is not None:\n",
    "                st=st+str(s[i])+\" \"\n",
    "        return st\n",
    "    \n",
    "    def pushToStack(self,el):\n",
    "        if self.c>0:\n",
    "            for i in range(len(self.lst)):\n",
    "                if self.lst[i] is None:\n",
    "                    self.lst[i]=el\n",
    "                    break\n",
    "            #self.lst[len(self.lst)-self.len]=el\n",
    "            self.c-=1\n",
    "        else:\n",
    "            self.l=[None]*(2*len(self.lst))\n",
    "            self.l[len(self.lst)]=el\n",
    "            for i in range(len(self.lst)):\n",
    "                self.l[i]=self.lst[i]\n",
    "            self.lst=self.l\n",
    "            self.c=len(self.l)\n",
    "            \n",
    "    def popFromStack(self):\n",
    "        for i in range(len(self.lst)-1,-1,-1):\n",
    "            if self.lst[i] is not None:\n",
    "                self.lst.pop(i)\n",
    "                break\n",
    "                \n",
    "    def peekStack(self):\n",
    "        for i in range(len(self.lst)-1,-1,-1):\n",
    "            if self.lst[i] is not None:\n",
    "                return self.lst[i]\n",
    "                \n",
    "                \n",
    "        \n",
    "    def get_size(self):\n",
    "        c=0\n",
    "        for i in self.lst:\n",
    "            if i is not None:\n",
    "                c=c+1\n",
    "            \n",
    "        return c\n",
    "        \n",
    "        "
   ]
  },
  {
   "cell_type": "code",
   "execution_count": 55,
   "metadata": {},
   "outputs": [
    {
     "name": "stdout",
     "output_type": "stream",
     "text": [
      "Stack: 20 50 20 50 10 20 50 10 \n",
      "Size: 8\n",
      "peak: 20\n",
      "Stack: 50 20 50 10 20 50 10 \n",
      "Size: 7\n",
      "peak: 50\n"
     ]
    }
   ],
   "source": [
    "l1=StackImpl()\n",
    "l1.pushToStack(10)\n",
    "l1.pushToStack(50)\n",
    "l1.pushToStack(20)\n",
    "l1.pushToStack(10)\n",
    "l1.pushToStack(50)\n",
    "l1.pushToStack(20)\n",
    "l1.pushToStack(50)\n",
    "l1.pushToStack(20)\n",
    "print(\"Stack:\",l1)\n",
    "print(\"Size:\",l1.get_size())\n",
    "print(\"peak:\",l1.peekStack())\n",
    "l1.popFromStack()\n",
    "print(\"Stack:\",l1)\n",
    "print(\"Size:\",l1.get_size())\n",
    "print(\"peak:\",l1.peekStack())\n",
    "\n"
   ]
  },
  {
   "cell_type": "code",
   "execution_count": 23,
   "metadata": {},
   "outputs": [
    {
     "data": {
      "text/plain": [
       "[1, 2, 3, None, None]"
      ]
     },
     "execution_count": 23,
     "metadata": {},
     "output_type": "execute_result"
    }
   ],
   "source": [
    "l2=[1,2,3,4,None,None]\n",
    "for i in range(len(l2)-1,-1,-1):\n",
    "    if l2[i] is not None:\n",
    "        l2.pop(i)\n",
    "        break\n",
    "        \n",
    "l2"
   ]
  },
  {
   "cell_type": "code",
   "execution_count": 159,
   "metadata": {},
   "outputs": [],
   "source": [
    "# Binary Search Tree implementation\n",
    "class BBST:\n",
    "    def __init__(self,data):\n",
    "        self.left=None\n",
    "        self.right=None\n",
    "        self.data=data\n",
    "        self.l=[]\n",
    "        \n",
    "    def insert(self,data):\n",
    "        if self.data:\n",
    "            if data<self.data:\n",
    "                if self.left is None:\n",
    "                    self.left=BBST(data)\n",
    "                else:\n",
    "                    self.left.insert(data)\n",
    "            elif data>self.data:\n",
    "                if self.right is None:\n",
    "                    self.right=BBST(data)\n",
    "                else:\n",
    "                    self.right.insert(data)\n",
    "        else:\n",
    "            self.data=data\n",
    "            \n",
    "    def printTree(self):\n",
    "        if self.left:\n",
    "            self.left.printTree()\n",
    "        print(self.data)\n",
    "        if self.right:\n",
    "            self.right.printTree()\n",
    "            \n",
    "    \n",
    "        \n",
    "        "
   ]
  },
  {
   "cell_type": "code",
   "execution_count": 149,
   "metadata": {},
   "outputs": [
    {
     "name": "stdout",
     "output_type": "stream",
     "text": [
      "1\n",
      "3\n",
      "4\n",
      "5\n",
      "6\n",
      "10\n",
      "12\n",
      "15\n",
      "18\n",
      "20\n",
      "25\n"
     ]
    }
   ],
   "source": [
    "node=BBST(15)\n",
    "node.insert(10)\n",
    "node.insert(18)\n",
    "node.insert(12)\n",
    "node.insert(5)\n",
    "node.insert(3)\n",
    "node.insert(6)\n",
    "node.insert(1)\n",
    "node.insert(4)\n",
    "node.insert(20)\n",
    "node.insert(25)\n",
    "node.printTree()\n",
    "#print(node)\n",
    "#node.traversal()"
   ]
  },
  {
   "cell_type": "code",
   "execution_count": 158,
   "metadata": {},
   "outputs": [
    {
     "data": {
      "text/plain": [
       "4"
      ]
     },
     "execution_count": 158,
     "metadata": {},
     "output_type": "execute_result"
    }
   ],
   "source": [
    "# Kth smallest element from Binary Search Tree\n",
    "def get_kth_smallest(node,k):\n",
    "    n1=node\n",
    "    l=[n1.data]\n",
    "    while n1 is not None:\n",
    "        if n1.left is not None and n1.left.right is not None:\n",
    "            l.append(n1.left.right.data)\n",
    "        if n1.left is not None:\n",
    "            l.append(n1.left.data)\n",
    "        n1=n1.left\n",
    "    \n",
    "    if len(l)>=k:\n",
    "        return l[len(l)-k]\n",
    "    \n",
    "    else:\n",
    "        k=k-len(l)\n",
    "        n1=node\n",
    "        l2=[]\n",
    "        while n1 is not None:\n",
    "            if n1.right is not None and n1.right.left is not None:\n",
    "                l2.append(n1.right.left.data)\n",
    "            if n1.right is not None:\n",
    "                l2.append(n1.right.data)\n",
    "            n1=n1.right\n",
    "        if k<=len(l2):\n",
    "            return l2[k-1]\n",
    "        else:\n",
    "            return None\n",
    "        \n",
    "get_kth_smallest(node,3)"
   ]
  },
  {
   "cell_type": "code",
   "execution_count": 156,
   "metadata": {},
   "outputs": [
    {
     "data": {
      "text/plain": [
       "15"
      ]
     },
     "execution_count": 156,
     "metadata": {},
     "output_type": "execute_result"
    }
   ],
   "source": [
    "# Kth largest element from Binary Search Tree\n",
    "def get_kth_largest(node,k):\n",
    "    n1=node\n",
    "    l=[n1.data]\n",
    "    while n1 is not None:\n",
    "        if n1.right is not None and n1.right.left is not None:\n",
    "            l.append(n1.right.left.data)\n",
    "        if n1.right is not None:\n",
    "            l.append(n1.right.data)\n",
    "        n1=n1.right\n",
    "    \n",
    "    if len(l)>=k:\n",
    "        return l[len(l)-k]\n",
    "    \n",
    "    else:\n",
    "        k=k-len(l)\n",
    "        n1=node\n",
    "        l2=[]\n",
    "        while n1 is not None:\n",
    "            if n1.left is not None and n1.left.right is not None:\n",
    "                l2.append(n1.left.right.data)\n",
    "            if n1.left is not None:\n",
    "                l2.append(n1.left.data)\n",
    "            n1=n1.left\n",
    "            \n",
    "        if k<=len(l2):\n",
    "            return l2[k-1]\n",
    "        else:\n",
    "            return None\n",
    "        \n",
    "get_kth_largest(node,4)"
   ]
  },
  {
   "cell_type": "code",
   "execution_count": null,
   "metadata": {},
   "outputs": [],
   "source": []
  }
 ],
 "metadata": {
  "kernelspec": {
   "display_name": "Python 3",
   "language": "python",
   "name": "python3"
  },
  "language_info": {
   "codemirror_mode": {
    "name": "ipython",
    "version": 3
   },
   "file_extension": ".py",
   "mimetype": "text/x-python",
   "name": "python",
   "nbconvert_exporter": "python",
   "pygments_lexer": "ipython3",
   "version": "3.7.4"
  }
 },
 "nbformat": 4,
 "nbformat_minor": 2
}
