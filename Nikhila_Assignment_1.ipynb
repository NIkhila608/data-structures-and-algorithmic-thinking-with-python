{
 "cells": [
  {
   "cell_type": "markdown",
   "metadata": {},
   "source": [
    "### Find if duplicates are present in a given list of numbers"
   ]
  },
  {
   "cell_type": "markdown",
   "metadata": {},
   "source": [
    "##### Method 1: Brute-force "
   ]
  },
  {
   "cell_type": "code",
   "execution_count": 2,
   "metadata": {},
   "outputs": [
    {
     "name": "stdout",
     "output_type": "stream",
     "text": [
      "list with duplicates [3,2,1,2,2,3] :  True\n",
      "list without duplicates [3,2,1,0] :  False\n"
     ]
    }
   ],
   "source": [
    "def get_duplicates_1(l1):\n",
    "    for i in range(len(l1)):\n",
    "        for j in range(i):\n",
    "            if l1[i]==l1[j]:\n",
    "                return True\n",
    "    return False\n",
    "\n",
    "print(\"list with duplicates [3,2,1,2,2,3] : \",get_duplicates_1([3,2,1,2,2,3]))\n",
    "print(\"list without duplicates [3,2,1,0] : \",get_duplicates_1([3,2,1,0]))"
   ]
  },
  {
   "cell_type": "markdown",
   "metadata": {},
   "source": [
    "#### Method 2: Sorting"
   ]
  },
  {
   "cell_type": "code",
   "execution_count": 3,
   "metadata": {},
   "outputs": [
    {
     "name": "stdout",
     "output_type": "stream",
     "text": [
      "list with duplicates [3,2,1,2,2,3] :  True\n",
      "list without duplicates [3,2,1,0] :  False\n"
     ]
    }
   ],
   "source": [
    "def get_duplicates_2(l):\n",
    "    l.sort()\n",
    "    for i in range(1,len(l)):\n",
    "        if l[i-1]==l[i]:\n",
    "            return True\n",
    "    return False\n",
    "\n",
    "print(\"list with duplicates [3,2,1,2,2,3] : \",get_duplicates_2([3,2,1,2,2,3]))\n",
    "print(\"list without duplicates [3,2,1,0] : \",get_duplicates_2([3,2,1,0]))"
   ]
  },
  {
   "cell_type": "markdown",
   "metadata": {},
   "source": [
    "#### Method 3: Hashing"
   ]
  },
  {
   "cell_type": "code",
   "execution_count": 4,
   "metadata": {},
   "outputs": [
    {
     "name": "stdout",
     "output_type": "stream",
     "text": [
      "list with duplicates [3,2,1,2,2,3] :  True\n",
      "list without duplicates [3,2,1,0] :  False\n"
     ]
    }
   ],
   "source": [
    "def get_duplicates_3(l):\n",
    "    dic={}\n",
    "    for i in l:\n",
    "        if i in dic.keys():\n",
    "            return True\n",
    "        else:\n",
    "            dic[i]=1\n",
    "    return False\n",
    "\n",
    "print(\"list with duplicates [3,2,1,2,2,3] : \",get_duplicates_3([3,2,1,2,2,3]))\n",
    "print(\"list without duplicates [3,2,1,0] : \",get_duplicates_3([3,2,1,0]))"
   ]
  },
  {
   "cell_type": "markdown",
   "metadata": {},
   "source": [
    "#### Method 4: Negation"
   ]
  },
  {
   "cell_type": "code",
   "execution_count": 5,
   "metadata": {},
   "outputs": [
    {
     "name": "stdout",
     "output_type": "stream",
     "text": [
      "list with duplicates [3,2,1,2,2,3] :  True\n",
      "list without duplicates [3,2,1,0] :  False\n"
     ]
    }
   ],
   "source": [
    "def get_duplicates_4(l):\n",
    "    for i in range(len(l)):\n",
    "        if l[abs(l[i])]<0:\n",
    "            return True\n",
    "        else:\n",
    "            l[abs(l[i])]=-1*l[abs(l[i])]\n",
    "    return False\n",
    "\n",
    "print(\"list with duplicates [3,2,1,2,2,3] : \",get_duplicates_4([3,2,1,2,2,3]))\n",
    "print(\"list without duplicates [3,2,1,0] : \",get_duplicates_4([3,2,1,0]))"
   ]
  },
  {
   "cell_type": "markdown",
   "metadata": {},
   "source": [
    "### Find the elements which are repeated maximum number of times"
   ]
  },
  {
   "cell_type": "markdown",
   "metadata": {},
   "source": [
    "#### Method 1: Brute-force"
   ]
  },
  {
   "cell_type": "code",
   "execution_count": 6,
   "metadata": {},
   "outputs": [
    {
     "name": "stdout",
     "output_type": "stream",
     "text": [
      "list with duplicates [3,2,1,2,2,3] :  [2]\n",
      "list with multiple duplicates [3,1,2,2,3] :  [3, 2]\n",
      "list without duplicates [3,2,1,0] :  []\n"
     ]
    }
   ],
   "source": [
    "def get_max_duplicates_1(l):\n",
    "    max_dup=0\n",
    "    ele=[]\n",
    "    for i in range(len(l)-1):\n",
    "        dup=0\n",
    "        for j in range(i+1,len(l)): \n",
    "            if l[i]==l[j]:\n",
    "                dup=dup+1\n",
    "        if dup==max_dup and dup!=0:\n",
    "            max_dup=dup\n",
    "            ele.append(l[i])\n",
    "        elif dup>max_dup:\n",
    "            max_dup=dup\n",
    "            ele.clear()\n",
    "            ele.append(l[i])\n",
    "    return ele\n",
    "\n",
    "print(\"list with duplicates [3,2,1,2,2,3] : \",get_max_duplicates_1([3,2,1,2,2,3]))\n",
    "print(\"list with multiple duplicates [3,1,2,2,3] : \",get_max_duplicates_1([3,1,2,2,3]))\n",
    "print(\"list without duplicates [3,2,1,0] : \",get_max_duplicates_1([3,2,1,0]))"
   ]
  },
  {
   "cell_type": "markdown",
   "metadata": {},
   "source": [
    "#### Method 2: Sorting"
   ]
  },
  {
   "cell_type": "code",
   "execution_count": 18,
   "metadata": {},
   "outputs": [
    {
     "name": "stdout",
     "output_type": "stream",
     "text": [
      "list with duplicates [3,2,1,2,2,3] :  [2]\n",
      "list with multiple duplicates [3,1,2,2,3] :  [2, 3]\n",
      "list without duplicates [3,2,1,0] :  []\n"
     ]
    }
   ],
   "source": [
    "def get_max_duplicates_2(l):\n",
    "    l.sort()\n",
    "    dup=0\n",
    "    max_dup=0\n",
    "    ele=[]\n",
    "\n",
    "    for i in range(1,len(l)):\n",
    "        if l[i-1]==l[i]:\n",
    "            dup=dup+1\n",
    "        else:\n",
    "            if dup>=max_dup and dup!=0:\n",
    "                max_dup=dup\n",
    "                ele.append(l[i-1])\n",
    "            dup=0\n",
    "    if dup==max_dup and dup!=0:\n",
    "            max_dup=dup\n",
    "            ele.append(l[i])\n",
    "    elif dup>max_dup:\n",
    "        max_dup=dup\n",
    "        ele.clear()\n",
    "        ele.append(l[i])\n",
    "    return ele\n",
    "\n",
    "print(\"list with duplicates [3,2,1,2,2,3] : \",get_max_duplicates_2([3,2,1,2,2,3]))\n",
    "print(\"list with multiple duplicates [3,1,2,2,3] : \",get_max_duplicates_2([3,1,2,2,3]))\n",
    "print(\"list without duplicates [3,2,1,0] : \",get_max_duplicates_2([3,2,1,0]))"
   ]
  },
  {
   "cell_type": "markdown",
   "metadata": {},
   "source": [
    "#### Method 3: Hashing"
   ]
  },
  {
   "cell_type": "code",
   "execution_count": 8,
   "metadata": {},
   "outputs": [
    {
     "name": "stdout",
     "output_type": "stream",
     "text": [
      "list with duplicates [3,2,1,2,2,3] :  [2]\n",
      "list with multiple duplicates [3,1,2,2,3] :  [3, 2]\n",
      "list without duplicates [3,2,1,0] :  []\n"
     ]
    }
   ],
   "source": [
    "def get_max_duplicates_3(l):\n",
    "    dic={}\n",
    "    l1=[]\n",
    "    for i in l:\n",
    "        if i in dic.keys():\n",
    "            dic[i]=dic[i]+1\n",
    "        else:\n",
    "            dic[i]=1\n",
    "    val=max(dic.values())\n",
    "    for k,v in dic.items():\n",
    "        if v==val and v>1:\n",
    "            l1.append(k)\n",
    "    return l1\n",
    "\n",
    "print(\"list with duplicates [3,2,1,2,2,3] : \",get_max_duplicates_3([3,2,1,2,2,3]))\n",
    "print(\"list with multiple duplicates [3,1,2,2,3] : \",get_max_duplicates_3([3,1,2,2,3]))\n",
    "print(\"list without duplicates [3,2,1,0] : \",get_max_duplicates_3([3,2,1,0]))"
   ]
  },
  {
   "cell_type": "markdown",
   "metadata": {},
   "source": [
    "#### Method 4:"
   ]
  },
  {
   "cell_type": "code",
   "execution_count": 9,
   "metadata": {},
   "outputs": [
    {
     "name": "stdout",
     "output_type": "stream",
     "text": [
      "list with duplicates [3,2,1,2,2,3] :  [2]\n",
      "list with multiple duplicates [3,1,2,2,3] :  [2, 3]\n",
      "list without duplicates [3,2,1,0] :  []\n"
     ]
    }
   ],
   "source": [
    "def get_max_duplicates_4(l):\n",
    "    c=len(l)\n",
    "    ele=[]\n",
    "    for i in range(len(l)):\n",
    "        l[l[i]%c]=l[l[i]%c]+c\n",
    "    l=[i-(i%c) for i in l]\n",
    "    for i in range(0,len(l)):\n",
    "        if l[i]==max(l):\n",
    "            ele.append(i)\n",
    "    if len(ele)==c:\n",
    "        ele.clear()\n",
    "    return ele\n",
    "    \n",
    "print(\"list with duplicates [3,2,1,2,2,3] : \",get_max_duplicates_4([3,2,1,2,2,3]))\n",
    "print(\"list with multiple duplicates [3,1,2,2,3] : \",get_max_duplicates_4([3,1,2,2,3]))\n",
    "print(\"list without duplicates [3,2,1,0] : \",get_max_duplicates_4([3,2,1,0]))"
   ]
  },
  {
   "cell_type": "code",
   "execution_count": 10,
   "metadata": {},
   "outputs": [
    {
     "data": {
      "text/plain": [
       "[5, 6]"
      ]
     },
     "execution_count": 10,
     "metadata": {},
     "output_type": "execute_result"
    }
   ],
   "source": [
    "get_max_duplicates_4([2,3,4,5,5,5,6,6,6])"
   ]
  },
  {
   "cell_type": "code",
   "execution_count": null,
   "metadata": {},
   "outputs": [],
   "source": []
  }
 ],
 "metadata": {
  "kernelspec": {
   "display_name": "Python 3",
   "language": "python",
   "name": "python3"
  },
  "language_info": {
   "codemirror_mode": {
    "name": "ipython",
    "version": 3
   },
   "file_extension": ".py",
   "mimetype": "text/x-python",
   "name": "python",
   "nbconvert_exporter": "python",
   "pygments_lexer": "ipython3",
   "version": "3.7.4"
  }
 },
 "nbformat": 4,
 "nbformat_minor": 2
}
