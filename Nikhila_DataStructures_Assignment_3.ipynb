{
 "cells": [
  {
   "cell_type": "code",
   "execution_count": 105,
   "metadata": {},
   "outputs": [],
   "source": [
    "# If size keeps on differing for a list, we use Linked Lists\n",
    "#LINKED LIST IMPLEMENTATION\n",
    "class Node():\n",
    "    def __init__(self,data):\n",
    "        self.data=data\n",
    "        self.next=None\n",
    "        \n",
    "class LinkedListImpl():\n",
    "    def __init__(self):\n",
    "        self.head=None\n",
    "        self.len=0\n",
    "    def __str__(self):\n",
    "        s=self.head\n",
    "        if s is None:\n",
    "            return \"\"\n",
    "        st=str(s.data)\n",
    "        while s.next is not None:\n",
    "            s=s.next\n",
    "            st=st+\"-->\"+str(s.data)\n",
    "        return st\n",
    "    \n",
    "    def add(self,data):\n",
    "        n=Node(data)\n",
    "        self.len+=1\n",
    "        curr=self.head\n",
    "        if self.head==None:\n",
    "            self.head=n\n",
    "        else:\n",
    "            while(curr.next is not None):\n",
    "                curr=curr.next\n",
    "            curr.next=n\n",
    "            \n",
    "    def find(self,data):\n",
    "        f=self.head\n",
    "        fn=None\n",
    "        c=0\n",
    "        while (f is not None):\n",
    "            if f.data==data:\n",
    "                fn=f\n",
    "                c=c+1\n",
    "                break\n",
    "            f=f.next\n",
    "            c=c+1\n",
    "        if fn is not None:\n",
    "            return c\n",
    "        else:\n",
    "            return -1\n",
    "        \n",
    "    def remove(self,data):\n",
    "        r=self.head\n",
    "        #print(self.len)\n",
    "        while(r is not None):\n",
    "            if r.data==data:\n",
    "                if r.next is None:\n",
    "                    self.remove_last()\n",
    "                    \n",
    "                    #break\n",
    "                else:\n",
    "                    r1=r.next\n",
    "                    d=r1.data\n",
    "                    r.next=r.next.next\n",
    "                    r.data=d\n",
    "                    self.len-=1\n",
    "                    #break;\n",
    "                break\n",
    "            else:\n",
    "                r=r.next\n",
    "        \n",
    "        #print(self.len)\n",
    "        \n",
    "    def remove_last(self):\n",
    "        if self.len==1:\n",
    "            self.head=None\n",
    "        else:\n",
    "            r=self.head\n",
    "            for i in range(0,self.len):\n",
    "                if i==self.len-1:\n",
    "                    r.next=None\n",
    "                else:\n",
    "                    r=r.next\n",
    "        self.len-=1\n",
    "    \n",
    "    def get_length(self):\n",
    "        return self.len\n",
    "                "
   ]
  },
  {
   "cell_type": "code",
   "execution_count": 106,
   "metadata": {},
   "outputs": [
    {
     "name": "stdout",
     "output_type": "stream",
     "text": [
      "10-->50-->2-->6-->15-->20-->8-->9-->18\n",
      "9\n"
     ]
    }
   ],
   "source": [
    "l1=LinkedListImpl()\n",
    "l1.add(10)\n",
    "l1.add(50)\n",
    "l1.add(2)\n",
    "l1.add(6)\n",
    "l1.add(15)\n",
    "l1.add(20)\n",
    "l1.add(8)\n",
    "l1.add(9)\n",
    "l1.add(18)\n",
    "print(l1)\n",
    "print(l1.get_length())"
   ]
  },
  {
   "cell_type": "code",
   "execution_count": 88,
   "metadata": {},
   "outputs": [
    {
     "data": {
      "text/plain": [
       "15"
      ]
     },
     "execution_count": 88,
     "metadata": {},
     "output_type": "execute_result"
    }
   ],
   "source": [
    "# To find n%kth node\n",
    "# 2 pointers s and c are initialized to first node of linked list. n is counter.\n",
    "# s,c will travel together first. Whenever n%k=0, c is pointed to first node and n continues till end\n",
    "\n",
    "def get_n_mod_k_node(l,k):\n",
    "    s=l.head\n",
    "    n=1\n",
    "    c=l.head\n",
    "    while s:\n",
    "        if n%k==0:\n",
    "            c=l.head\n",
    "        else:\n",
    "            c=c.next\n",
    "        n=n+1\n",
    "        s=s.next\n",
    "    return c.data\n",
    "        \n",
    "\n",
    "get_n_mod_k_node(l1,5)      "
   ]
  },
  {
   "cell_type": "code",
   "execution_count": 94,
   "metadata": {},
   "outputs": [
    {
     "data": {
      "text/plain": [
       "2"
      ]
     },
     "execution_count": 94,
     "metadata": {},
     "output_type": "execute_result"
    }
   ],
   "source": [
    "# To find sqrt(n)th node\n",
    "# 2 pointers s and c are initialized to first node of linked list. n is counter.\n",
    "# for perfect squares, floor(n)=ceil(n). \n",
    "# If the length of linked list is 5, sqrt(5)=2.23, function returns 2nd element\n",
    "\n",
    "import math\n",
    "def get_root_n_node(l):\n",
    "    s=l.head\n",
    "    c=l.head\n",
    "    res=None\n",
    "    n=1\n",
    "    while s:\n",
    "        if math.floor(n**0.5)==math.ceil(n**0.5):\n",
    "            res=c.data\n",
    "            c=c.next\n",
    "        n=n+1\n",
    "        s=s.next\n",
    "    return res\n",
    "\n",
    "get_root_n_node(l1)\n",
    "        "
   ]
  },
  {
   "cell_type": "code",
   "execution_count": 29,
   "metadata": {},
   "outputs": [
    {
     "name": "stdout",
     "output_type": "stream",
     "text": [
      "1 10\n"
     ]
    },
    {
     "data": {
      "text/plain": [
       "10"
      ]
     },
     "execution_count": 29,
     "metadata": {},
     "output_type": "execute_result"
    }
   ],
   "source": [
    "l2=LinkedListImpl()\n",
    "l2.add(10)\n",
    "l2.add(50)\n",
    "get_root_n_node(l2)"
   ]
  },
  {
   "cell_type": "code",
   "execution_count": 96,
   "metadata": {},
   "outputs": [],
   "source": [
    "# creating cycle in linked list. In the below linked list, 9th element is pointed to 5th element\n",
    "\n",
    "l1.head.next.next.next.next.next.next.next.next.next = l1.head.next.next.next.next.next\n",
    "#print(l1)"
   ]
  },
  {
   "cell_type": "code",
   "execution_count": 97,
   "metadata": {},
   "outputs": [
    {
     "data": {
      "text/plain": [
       "('cycle Found', <__main__.Node at 0x2cf1bc92dc8>, 4)"
      ]
     },
     "execution_count": 97,
     "metadata": {},
     "output_type": "execute_result"
    }
   ],
   "source": [
    "# To find if cycle exists in a linked list. If found return start node and length of cycle\n",
    "# node_list contains all the nodes which have been traversed. Whenever we encounter same node again,\n",
    "# we can conclude there is a cycle. \n",
    "\n",
    "def detect_cycle(l):\n",
    "    s=l.head\n",
    "    node_list=[s]\n",
    "    n=None\n",
    "    while s:\n",
    "        if s.next in node_list:\n",
    "            n=s.next\n",
    "            break\n",
    "        else:\n",
    "            node_list.append(s.next)\n",
    "        s=s.next\n",
    "    if n:\n",
    "        return \"cycle Found\",n,len(node_list[node_list.index(n):])\n",
    "    else:\n",
    "        return \"no cycle found\",n,0\n",
    "\n",
    "detect_cycle(l1)\n",
    "\n",
    "    "
   ]
  },
  {
   "cell_type": "code",
   "execution_count": 78,
   "metadata": {},
   "outputs": [
    {
     "name": "stdout",
     "output_type": "stream",
     "text": [
      "10-->50-->2-->6-->15\n"
     ]
    }
   ],
   "source": [
    "# From the detect_cycle(l) method,\n",
    "# we get the node from where the cycle starts and make the next elemnt as None\n",
    "def remove_cycle(l,n):\n",
    "    s=l.head\n",
    "    while s:\n",
    "        if s.next==n:\n",
    "            s.next=None\n",
    "            break\n",
    "        else:\n",
    "            s=s.next\n",
    "    return l\n",
    "\n",
    "\n",
    "print(remove_cycle(l1,detect_cycle(l1)[1]))"
   ]
  },
  {
   "cell_type": "code",
   "execution_count": 101,
   "metadata": {},
   "outputs": [
    {
     "name": "stdout",
     "output_type": "stream",
     "text": [
      "('cycle found', 4)\n"
     ]
    }
   ],
   "source": [
    "# Floyd's method\n",
    "\n",
    "def detect_cycle_floyd(l):\n",
    "    slow=l.head\n",
    "    fast=l.head\n",
    "    n=None\n",
    "    while slow and fast and fast.next:\n",
    "        slow=slow.next\n",
    "        fast=fast.next.next\n",
    "        \n",
    "        if slow==fast:\n",
    "            n=slow\n",
    "            break\n",
    "    \n",
    "    if n:\n",
    "        s=l.head\n",
    "        c=0\n",
    "        l=0\n",
    "        while s:\n",
    "            l=l+1\n",
    "            if s==n and c<1:\n",
    "                c=c+1\n",
    "                l=0\n",
    "            elif s==n and c>=1:\n",
    "                break\n",
    "                \n",
    "            s=s.next\n",
    "        return \"cycle found\",l\n",
    "    else:\n",
    "        return \"no cycle found\",0\n",
    "    \n",
    "            \n",
    "print(detect_cycle_floyd(l1))"
   ]
  },
  {
   "cell_type": "code",
   "execution_count": 120,
   "metadata": {},
   "outputs": [
    {
     "name": "stdout",
     "output_type": "stream",
     "text": [
      "linked lists before merging\n",
      "10-->50-->2-->6\n",
      "15-->20-->8-->9-->18\n",
      "linked lists after merging\n",
      "10-->50-->2-->8-->9-->18\n",
      "15-->20-->8-->9-->18\n"
     ]
    }
   ],
   "source": [
    "# Merging two linked lists\n",
    "l3=LinkedListImpl()\n",
    "l3.add(10)\n",
    "l3.add(50)\n",
    "l3.add(2)\n",
    "l3.add(6)\n",
    "\n",
    "l4=LinkedListImpl()\n",
    "l4.add(15)\n",
    "l4.add(20)\n",
    "l4.add(8)\n",
    "l4.add(9)\n",
    "l4.add(18)\n",
    "print(\"linked lists before merging\")\n",
    "print(l3)\n",
    "print(l4)\n",
    "\n",
    "l3.head.next.next.next=l4.head.next.next\n",
    "\n",
    "print(\"linked lists after merging\")\n",
    "print(l3)\n",
    "print(l4)"
   ]
  },
  {
   "cell_type": "code",
   "execution_count": 119,
   "metadata": {},
   "outputs": [
    {
     "name": "stdout",
     "output_type": "stream",
     "text": [
      "8\n"
     ]
    }
   ],
   "source": [
    "# Finding merge node\n",
    "def get_merge_node(l1,l2):\n",
    "    d=0\n",
    "    s1=l1.head\n",
    "    s2=l2.head\n",
    "    n=None\n",
    "    len1=0\n",
    "    len2=0\n",
    "    while s1:\n",
    "        len1=len1+1\n",
    "        s1=s1.next\n",
    "    while s2:\n",
    "        len2=len2+1\n",
    "        s2=s2.next\n",
    "    s1=l1.head\n",
    "    s2=l2.head\n",
    "    \n",
    "    if len1>len2:\n",
    "        d=len1-len2\n",
    "        while(d>0):\n",
    "            s1=s1.next\n",
    "            d=d-1           \n",
    "    else:\n",
    "        d=len2-len1\n",
    "        while(d>0):\n",
    "            s2=s2.next\n",
    "            d=d-1\n",
    "    \n",
    "    while s1 and s2:\n",
    "        if s1==s2:\n",
    "            n=s1\n",
    "            break\n",
    "        s1=s1.next\n",
    "        s2=s2.next\n",
    "    return n\n",
    "    \n",
    "print(get_merge_node(l3,l4).data)"
   ]
  },
  {
   "cell_type": "code",
   "execution_count": null,
   "metadata": {},
   "outputs": [],
   "source": []
  }
 ],
 "metadata": {
  "kernelspec": {
   "display_name": "Python 3",
   "language": "python",
   "name": "python3"
  },
  "language_info": {
   "codemirror_mode": {
    "name": "ipython",
    "version": 3
   },
   "file_extension": ".py",
   "mimetype": "text/x-python",
   "name": "python",
   "nbconvert_exporter": "python",
   "pygments_lexer": "ipython3",
   "version": "3.7.4"
  }
 },
 "nbformat": 4,
 "nbformat_minor": 2
}
